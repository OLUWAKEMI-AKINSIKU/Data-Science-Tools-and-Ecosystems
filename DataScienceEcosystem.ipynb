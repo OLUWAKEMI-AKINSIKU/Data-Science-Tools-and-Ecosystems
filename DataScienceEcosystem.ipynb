{
 "cells": [
  {
   "cell_type": "markdown",
   "id": "43345568-b727-488a-bc86-a7ab3c1d16e6",
   "metadata": {},
   "source": []
  },
  {
   "cell_type": "markdown",
   "id": "b649c872-6262-4387-8d6c-2b3dc42bc6a9",
   "metadata": {},
   "source": [
    "Data Science Tools and Ecosystem"
   ]
  },
  {
   "cell_type": "markdown",
   "id": "02f82d5f-a09f-4f30-91de-3dae6676b3c1",
   "metadata": {},
   "source": [
    "In this notebook, Data Science Tools and Ecosystem are summarized."
   ]
  },
  {
   "cell_type": "markdown",
   "id": "118466ca-bfa4-4e6f-96d2-2d7aa87e229b",
   "metadata": {},
   "source": [
    "Objectives:\n",
    "- List popular languages for Data Science.\n",
    "- List popular libraries for Data Science.\n",
    "- Know what Application Programming Interface APIs is\n",
    "- "
   ]
  },
  {
   "cell_type": "markdown",
   "id": "7c3567c3-3a75-485b-9ebc-f547addece3d",
   "metadata": {},
   "source": [
    "Some of the popular languages that Data Scientists use are:\n",
    "- Python\n",
    "- R\n",
    "- SQL\n",
    "- Java\n",
    "- C++\n",
    "- Scala\n",
    "- Julia"
   ]
  },
  {
   "cell_type": "markdown",
   "id": "0f53bbb8-c394-4990-a1bb-65d37d7a2138",
   "metadata": {},
   "source": [
    "Some of the commonly used libraries used by Data Scientists include:\n",
    "- Pandas\n",
    "- Numpy\n",
    "- Matplotlib\n",
    "- ScikitLearn"
   ]
  },
  {
   "cell_type": "markdown",
   "id": "c452fe46-18b6-4666-9d15-1f696b099c79",
   "metadata": {},
   "source": [
    "| Data Science Tools |\n",
    "|--------|\n",
    "| Python  |\n",
    "| R |\n",
    "| Pytorch  |"
   ]
  },
  {
   "cell_type": "markdown",
   "id": "32a8bfdb-943c-4bfa-98a9-b3fe2a67167c",
   "metadata": {},
   "source": [
    "Below are a few examples of evaluating arithmetic expressions in Python"
   ]
  },
  {
   "cell_type": "code",
   "execution_count": 1,
   "id": "7664a9a9-63f3-43e8-8461-6eef823419de",
   "metadata": {},
   "outputs": [
    {
     "data": {
      "text/plain": [
       "17"
      ]
     },
     "execution_count": 1,
     "metadata": {},
     "output_type": "execute_result"
    }
   ],
   "source": [
    "#This a simple arithmetic expression to mutiply then add integers\n",
    "(3*4)+5\n"
   ]
  },
  {
   "cell_type": "code",
   "execution_count": 3,
   "id": "737b7fba-e0bd-4fbc-8100-ca407bce24cb",
   "metadata": {},
   "outputs": [
    {
     "data": {
      "text/plain": [
       "3.3333333333333335"
      ]
     },
     "execution_count": 3,
     "metadata": {},
     "output_type": "execute_result"
    }
   ],
   "source": [
    "#This will convert 200 minutes to hours by diving by 60.\n",
    "\n",
    "200/60"
   ]
  },
  {
   "cell_type": "markdown",
   "id": "af532fea-6a2b-4abf-9338-7a0b17103cd7",
   "metadata": {},
   "source": [
    "Author\n",
    "Oluwakemi Akinsiku "
   ]
  },
  {
   "cell_type": "code",
   "execution_count": null,
   "id": "72dbcd23-c4d1-43e8-9e9a-a1fa9bc22d5b",
   "metadata": {},
   "outputs": [],
   "source": []
  }
 ],
 "metadata": {
  "kernelspec": {
   "display_name": "Python 3 (ipykernel)",
   "language": "python",
   "name": "python3"
  },
  "language_info": {
   "codemirror_mode": {
    "name": "ipython",
    "version": 3
   },
   "file_extension": ".py",
   "mimetype": "text/x-python",
   "name": "python",
   "nbconvert_exporter": "python",
   "pygments_lexer": "ipython3",
   "version": "3.12.8"
  }
 },
 "nbformat": 4,
 "nbformat_minor": 5
}
